{
  "nbformat": 4,
  "nbformat_minor": 0,
  "metadata": {
    "colab": {
      "name": "bird-bones.ipynb",
      "provenance": [],
      "collapsed_sections": [],
      "authorship_tag": "ABX9TyOgUrpHAZvVqkPWNxrrZTuk"
    },
    "kernelspec": {
      "name": "python3",
      "display_name": "Python 3"
    },
    "language_info": {
      "name": "python"
    }
  },
  "cells": [
    {
      "cell_type": "code",
      "execution_count": 18,
      "metadata": {
        "id": "bKiSaHKJjUy1"
      },
      "outputs": [],
      "source": [
        "# Import general libraries\n",
        "import pandas as pd\n",
        "import csv\n",
        "import matplotlib.pyplot as plt\n",
        "import numpy as np\n",
        "import pylab as pl"
      ]
    },
    {
      "cell_type": "code",
      "source": [
        "# import machine learning libaries\n",
        "from sklearn.model_selection import train_test_split\n",
        "from sklearn.naive_bayes import GaussianNB\n",
        "from sklearn.metrics import accuracy_score"
      ],
      "metadata": {
        "id": "KtM15blFX2gL"
      },
      "execution_count": 19,
      "outputs": []
    },
    {
      "cell_type": "code",
      "source": [
        "# Import data through github link\n",
        "# https://raw.githubusercontent.com/bendbir/bird_bones/main/bird.csv\n",
        "\n",
        "url = 'https://raw.githubusercontent.com/bendbir/bird_bones/main/bird.csv'\n",
        "birds_data = pd.read_csv(url, low_memory=False)\n",
        "# Dataset is now stored in a Pandas Dataframe"
      ],
      "metadata": {
        "id": "Cx_1j4AVjevG"
      },
      "execution_count": 3,
      "outputs": []
    },
    {
      "cell_type": "markdown",
      "source": [
        "Dataset obtained from Kaggle: https://www.kaggle.com/datasets/zhangjuefei/birds-bones-and-living-habits"
      ],
      "metadata": {
        "id": "m1HQTlnjj82J"
      }
    },
    {
      "cell_type": "code",
      "source": [
        "print (birds_data.head())"
      ],
      "metadata": {
        "colab": {
          "base_uri": "https://localhost:8080/"
        },
        "id": "iZENeKXujxw6",
        "outputId": "1b41e658-ed86-4ad8-d44b-d506f796c6bc"
      },
      "execution_count": 4,
      "outputs": [
        {
          "output_type": "stream",
          "name": "stdout",
          "text": [
            "   id   huml  humw  ulnal  ulnaw   feml  femw   tibl  tibw   tarl  tarw type\n",
            "0   0  80.78  6.68  72.01   4.88  41.81  3.70   5.50  4.03  38.70  3.84   SW\n",
            "1   1  88.91  6.63  80.53   5.59  47.04  4.30  80.22  4.51  41.50  4.01   SW\n",
            "2   2  79.97  6.37  69.26   5.28  43.07  3.90  75.35  4.04  38.31  3.34   SW\n",
            "3   3  77.65  5.70  65.76   4.77  40.04  3.52  69.17  3.40  35.78  3.41   SW\n",
            "4   4  62.80  4.84  52.09   3.73  33.95  2.72  56.27  2.96  31.88  3.13   SW\n"
          ]
        }
      ]
    },
    {
      "cell_type": "code",
      "source": [
        "# Print description ('.describe()') of data\n",
        "birds_data.describe()"
      ],
      "metadata": {
        "id": "IG6q1DSrjzYU",
        "colab": {
          "base_uri": "https://localhost:8080/",
          "height": 297
        },
        "outputId": "b04359cf-0a53-4807-d19b-a48b93d0f864"
      },
      "execution_count": 5,
      "outputs": [
        {
          "output_type": "execute_result",
          "data": {
            "text/plain": [
              "               id        huml        humw       ulnal       ulnaw        feml  \\\n",
              "count  420.000000  419.000000  419.000000  417.000000  418.000000  418.000000   \n",
              "mean   209.500000   64.650501    4.370573   69.115372    3.597249   36.872416   \n",
              "std    121.387808   53.834549    2.854617   58.784775    2.186747   19.979082   \n",
              "min      0.000000    9.850000    1.140000   14.090000    1.000000   11.830000   \n",
              "25%    104.750000   25.170000    2.190000   28.050000    1.870000   21.297500   \n",
              "50%    209.500000   44.180000    3.500000   43.710000    2.945000   31.130000   \n",
              "75%    314.250000   90.310000    5.810000   97.520000    4.770000   47.120000   \n",
              "max    419.000000  420.000000   17.840000  422.000000   12.000000  117.070000   \n",
              "\n",
              "             femw        tibl        tibw        tarl        tarw  \n",
              "count  419.000000  418.000000  419.000000  419.000000  419.000000  \n",
              "mean     3.220883   64.662823    3.182339   39.229976    2.930024  \n",
              "std      2.023581   37.838145    2.080827   23.184313    2.185673  \n",
              "min      0.930000    5.500000    0.870000    7.770000    0.660000  \n",
              "25%      1.715000   36.417500    1.565000   23.035000    1.425000  \n",
              "50%      2.520000   52.120000    2.490000   31.740000    2.230000  \n",
              "75%      4.135000   82.870000    4.255000   50.250000    3.500000  \n",
              "max     11.640000  240.000000   11.030000  175.000000   14.090000  "
            ],
            "text/html": [
              "\n",
              "  <div id=\"df-9b38b7ac-e6fc-4c0b-910f-dfe1c8ad0039\">\n",
              "    <div class=\"colab-df-container\">\n",
              "      <div>\n",
              "<style scoped>\n",
              "    .dataframe tbody tr th:only-of-type {\n",
              "        vertical-align: middle;\n",
              "    }\n",
              "\n",
              "    .dataframe tbody tr th {\n",
              "        vertical-align: top;\n",
              "    }\n",
              "\n",
              "    .dataframe thead th {\n",
              "        text-align: right;\n",
              "    }\n",
              "</style>\n",
              "<table border=\"1\" class=\"dataframe\">\n",
              "  <thead>\n",
              "    <tr style=\"text-align: right;\">\n",
              "      <th></th>\n",
              "      <th>id</th>\n",
              "      <th>huml</th>\n",
              "      <th>humw</th>\n",
              "      <th>ulnal</th>\n",
              "      <th>ulnaw</th>\n",
              "      <th>feml</th>\n",
              "      <th>femw</th>\n",
              "      <th>tibl</th>\n",
              "      <th>tibw</th>\n",
              "      <th>tarl</th>\n",
              "      <th>tarw</th>\n",
              "    </tr>\n",
              "  </thead>\n",
              "  <tbody>\n",
              "    <tr>\n",
              "      <th>count</th>\n",
              "      <td>420.000000</td>\n",
              "      <td>419.000000</td>\n",
              "      <td>419.000000</td>\n",
              "      <td>417.000000</td>\n",
              "      <td>418.000000</td>\n",
              "      <td>418.000000</td>\n",
              "      <td>419.000000</td>\n",
              "      <td>418.000000</td>\n",
              "      <td>419.000000</td>\n",
              "      <td>419.000000</td>\n",
              "      <td>419.000000</td>\n",
              "    </tr>\n",
              "    <tr>\n",
              "      <th>mean</th>\n",
              "      <td>209.500000</td>\n",
              "      <td>64.650501</td>\n",
              "      <td>4.370573</td>\n",
              "      <td>69.115372</td>\n",
              "      <td>3.597249</td>\n",
              "      <td>36.872416</td>\n",
              "      <td>3.220883</td>\n",
              "      <td>64.662823</td>\n",
              "      <td>3.182339</td>\n",
              "      <td>39.229976</td>\n",
              "      <td>2.930024</td>\n",
              "    </tr>\n",
              "    <tr>\n",
              "      <th>std</th>\n",
              "      <td>121.387808</td>\n",
              "      <td>53.834549</td>\n",
              "      <td>2.854617</td>\n",
              "      <td>58.784775</td>\n",
              "      <td>2.186747</td>\n",
              "      <td>19.979082</td>\n",
              "      <td>2.023581</td>\n",
              "      <td>37.838145</td>\n",
              "      <td>2.080827</td>\n",
              "      <td>23.184313</td>\n",
              "      <td>2.185673</td>\n",
              "    </tr>\n",
              "    <tr>\n",
              "      <th>min</th>\n",
              "      <td>0.000000</td>\n",
              "      <td>9.850000</td>\n",
              "      <td>1.140000</td>\n",
              "      <td>14.090000</td>\n",
              "      <td>1.000000</td>\n",
              "      <td>11.830000</td>\n",
              "      <td>0.930000</td>\n",
              "      <td>5.500000</td>\n",
              "      <td>0.870000</td>\n",
              "      <td>7.770000</td>\n",
              "      <td>0.660000</td>\n",
              "    </tr>\n",
              "    <tr>\n",
              "      <th>25%</th>\n",
              "      <td>104.750000</td>\n",
              "      <td>25.170000</td>\n",
              "      <td>2.190000</td>\n",
              "      <td>28.050000</td>\n",
              "      <td>1.870000</td>\n",
              "      <td>21.297500</td>\n",
              "      <td>1.715000</td>\n",
              "      <td>36.417500</td>\n",
              "      <td>1.565000</td>\n",
              "      <td>23.035000</td>\n",
              "      <td>1.425000</td>\n",
              "    </tr>\n",
              "    <tr>\n",
              "      <th>50%</th>\n",
              "      <td>209.500000</td>\n",
              "      <td>44.180000</td>\n",
              "      <td>3.500000</td>\n",
              "      <td>43.710000</td>\n",
              "      <td>2.945000</td>\n",
              "      <td>31.130000</td>\n",
              "      <td>2.520000</td>\n",
              "      <td>52.120000</td>\n",
              "      <td>2.490000</td>\n",
              "      <td>31.740000</td>\n",
              "      <td>2.230000</td>\n",
              "    </tr>\n",
              "    <tr>\n",
              "      <th>75%</th>\n",
              "      <td>314.250000</td>\n",
              "      <td>90.310000</td>\n",
              "      <td>5.810000</td>\n",
              "      <td>97.520000</td>\n",
              "      <td>4.770000</td>\n",
              "      <td>47.120000</td>\n",
              "      <td>4.135000</td>\n",
              "      <td>82.870000</td>\n",
              "      <td>4.255000</td>\n",
              "      <td>50.250000</td>\n",
              "      <td>3.500000</td>\n",
              "    </tr>\n",
              "    <tr>\n",
              "      <th>max</th>\n",
              "      <td>419.000000</td>\n",
              "      <td>420.000000</td>\n",
              "      <td>17.840000</td>\n",
              "      <td>422.000000</td>\n",
              "      <td>12.000000</td>\n",
              "      <td>117.070000</td>\n",
              "      <td>11.640000</td>\n",
              "      <td>240.000000</td>\n",
              "      <td>11.030000</td>\n",
              "      <td>175.000000</td>\n",
              "      <td>14.090000</td>\n",
              "    </tr>\n",
              "  </tbody>\n",
              "</table>\n",
              "</div>\n",
              "      <button class=\"colab-df-convert\" onclick=\"convertToInteractive('df-9b38b7ac-e6fc-4c0b-910f-dfe1c8ad0039')\"\n",
              "              title=\"Convert this dataframe to an interactive table.\"\n",
              "              style=\"display:none;\">\n",
              "        \n",
              "  <svg xmlns=\"http://www.w3.org/2000/svg\" height=\"24px\"viewBox=\"0 0 24 24\"\n",
              "       width=\"24px\">\n",
              "    <path d=\"M0 0h24v24H0V0z\" fill=\"none\"/>\n",
              "    <path d=\"M18.56 5.44l.94 2.06.94-2.06 2.06-.94-2.06-.94-.94-2.06-.94 2.06-2.06.94zm-11 1L8.5 8.5l.94-2.06 2.06-.94-2.06-.94L8.5 2.5l-.94 2.06-2.06.94zm10 10l.94 2.06.94-2.06 2.06-.94-2.06-.94-.94-2.06-.94 2.06-2.06.94z\"/><path d=\"M17.41 7.96l-1.37-1.37c-.4-.4-.92-.59-1.43-.59-.52 0-1.04.2-1.43.59L10.3 9.45l-7.72 7.72c-.78.78-.78 2.05 0 2.83L4 21.41c.39.39.9.59 1.41.59.51 0 1.02-.2 1.41-.59l7.78-7.78 2.81-2.81c.8-.78.8-2.07 0-2.86zM5.41 20L4 18.59l7.72-7.72 1.47 1.35L5.41 20z\"/>\n",
              "  </svg>\n",
              "      </button>\n",
              "      \n",
              "  <style>\n",
              "    .colab-df-container {\n",
              "      display:flex;\n",
              "      flex-wrap:wrap;\n",
              "      gap: 12px;\n",
              "    }\n",
              "\n",
              "    .colab-df-convert {\n",
              "      background-color: #E8F0FE;\n",
              "      border: none;\n",
              "      border-radius: 50%;\n",
              "      cursor: pointer;\n",
              "      display: none;\n",
              "      fill: #1967D2;\n",
              "      height: 32px;\n",
              "      padding: 0 0 0 0;\n",
              "      width: 32px;\n",
              "    }\n",
              "\n",
              "    .colab-df-convert:hover {\n",
              "      background-color: #E2EBFA;\n",
              "      box-shadow: 0px 1px 2px rgba(60, 64, 67, 0.3), 0px 1px 3px 1px rgba(60, 64, 67, 0.15);\n",
              "      fill: #174EA6;\n",
              "    }\n",
              "\n",
              "    [theme=dark] .colab-df-convert {\n",
              "      background-color: #3B4455;\n",
              "      fill: #D2E3FC;\n",
              "    }\n",
              "\n",
              "    [theme=dark] .colab-df-convert:hover {\n",
              "      background-color: #434B5C;\n",
              "      box-shadow: 0px 1px 3px 1px rgba(0, 0, 0, 0.15);\n",
              "      filter: drop-shadow(0px 1px 2px rgba(0, 0, 0, 0.3));\n",
              "      fill: #FFFFFF;\n",
              "    }\n",
              "  </style>\n",
              "\n",
              "      <script>\n",
              "        const buttonEl =\n",
              "          document.querySelector('#df-9b38b7ac-e6fc-4c0b-910f-dfe1c8ad0039 button.colab-df-convert');\n",
              "        buttonEl.style.display =\n",
              "          google.colab.kernel.accessAllowed ? 'block' : 'none';\n",
              "\n",
              "        async function convertToInteractive(key) {\n",
              "          const element = document.querySelector('#df-9b38b7ac-e6fc-4c0b-910f-dfe1c8ad0039');\n",
              "          const dataTable =\n",
              "            await google.colab.kernel.invokeFunction('convertToInteractive',\n",
              "                                                     [key], {});\n",
              "          if (!dataTable) return;\n",
              "\n",
              "          const docLinkHtml = 'Like what you see? Visit the ' +\n",
              "            '<a target=\"_blank\" href=https://colab.research.google.com/notebooks/data_table.ipynb>data table notebook</a>'\n",
              "            + ' to learn more about interactive tables.';\n",
              "          element.innerHTML = '';\n",
              "          dataTable['output_type'] = 'display_data';\n",
              "          await google.colab.output.renderOutput(dataTable, element);\n",
              "          const docLink = document.createElement('div');\n",
              "          docLink.innerHTML = docLinkHtml;\n",
              "          element.appendChild(docLink);\n",
              "        }\n",
              "      </script>\n",
              "    </div>\n",
              "  </div>\n",
              "  "
            ]
          },
          "metadata": {},
          "execution_count": 5
        }
      ]
    },
    {
      "cell_type": "code",
      "source": [
        "# Graph distributions to visually assess\n",
        "\n",
        "graph_data = birds_data.drop(['id', 'type'] ,axis=1)\n",
        "graph_data.hist(bins=30, figsize=(9,9))\n",
        "pl.suptitle(\"Histogram for each numeric input variable\")\n",
        "plt.savefig('bird_bones_hist')\n",
        "plt.show()"
      ],
      "metadata": {
        "colab": {
          "base_uri": "https://localhost:8080/",
          "height": 602
        },
        "id": "LU7z9jy_mlX9",
        "outputId": "3162c839-4048-4be5-dee4-305effe60e36"
      },
      "execution_count": 6,
      "outputs": [
        {
          "output_type": "display_data",
          "data": {
            "text/plain": [
              "<Figure size 648x648 with 12 Axes>"
            ],
            "image/png": "[encoded data removed]"
          },
          "metadata": {
            "needs_background": "light"
          }
        }
      ]
    },
    {
      "cell_type": "code",
      "source": [
        "data_types = birds_data.dtypes\n",
        "print(\"data types:\")\n",
        "print(data_types)"
      ],
      "metadata": {
        "colab": {
          "base_uri": "https://localhost:8080/"
        },
        "id": "KAiBrkrCU8KS",
        "outputId": "9a20eb63-9cbe-43f9-d5f4-d4f89a6085e5"
      },
      "execution_count": 7,
      "outputs": [
        {
          "output_type": "stream",
          "name": "stdout",
          "text": [
            "data types:\n",
            "id         int64\n",
            "huml     float64\n",
            "humw     float64\n",
            "ulnal    float64\n",
            "ulnaw    float64\n",
            "feml     float64\n",
            "femw     float64\n",
            "tibl     float64\n",
            "tibw     float64\n",
            "tarl     float64\n",
            "tarw     float64\n",
            "type      object\n",
            "dtype: object\n"
          ]
        }
      ]
    },
    {
      "cell_type": "code",
      "source": [
        "# first, drop type and id.  Type needs to be dropped since object won't let us use np.isnan()\n",
        "birds_data_test = birds_data.drop(['id', 'type'], axis = 1)\n",
        "\n",
        "# Test for NaN\n",
        "np.where(np.isnan(birds_data_test))"
      ],
      "metadata": {
        "colab": {
          "base_uri": "https://localhost:8080/"
        },
        "id": "aghVH6bzSVWU",
        "outputId": "dcfc51c1-88ff-4c09-80be-97386f3866a3"
      },
      "execution_count": 8,
      "outputs": [
        {
          "output_type": "execute_result",
          "data": {
            "text/plain": [
              "(array([160, 160, 204, 204, 207, 207, 342, 342, 342, 342, 378, 378, 378,\n",
              "        396, 404]), array([4, 5, 2, 3, 8, 9, 0, 1, 2, 3, 2, 6, 7, 6, 4]))"
            ]
          },
          "metadata": {},
          "execution_count": 8
        }
      ]
    },
    {
      "cell_type": "code",
      "source": [
        "# If interested, look at row to confirm NaN values\n",
        "# print(DATAFRAME.iloc[ROW])\n",
        "\n",
        "# Drop NaNs from original dataframe\n",
        "birds_data2 = birds_data.dropna()\n",
        "\n",
        "# Test again for NaN, confirm there aren't any\n",
        "birds_data_test = birds_data2.drop(['id', 'type'], axis = 1)\n",
        "np.where(np.isnan(birds_data_test))"
      ],
      "metadata": {
        "colab": {
          "base_uri": "https://localhost:8080/"
        },
        "id": "BSqsLkhxSsdn",
        "outputId": "8b6194fa-d9e1-4fb5-cbd3-9621de8d148c"
      },
      "execution_count": 9,
      "outputs": [
        {
          "output_type": "execute_result",
          "data": {
            "text/plain": [
              "(array([], dtype=int64), array([], dtype=int64))"
            ]
          },
          "metadata": {},
          "execution_count": 9
        }
      ]
    },
    {
      "cell_type": "code",
      "source": [
        "# Define feature and target dataframes\n",
        "# Can we predict bird based on all metrics?\n",
        "\n",
        "# birdTypeInput is what we input to predict bird type.  Drop id and type since we don't need those.\n",
        "birdTypeInput = birds_data2.drop(['type'], axis = 1)\n",
        "\n",
        "# Define target label, in this case 'id'\n",
        "birdTargetLabel = birds_data2[['type']].copy()"
      ],
      "metadata": {
        "id": "me-omerpWAEx"
      },
      "execution_count": 10,
      "outputs": []
    },
    {
      "cell_type": "code",
      "source": [
        "# Use train_test_split, create input_train, input_test, label_train, label_test\n",
        "input_train, input_test, label_train, label_test = train_test_split(birdTypeInput, birdTargetLabel, stratify = birdTargetLabel)"
      ],
      "metadata": {
        "id": "yEuUpRkUXyxH"
      },
      "execution_count": 11,
      "outputs": []
    },
    {
      "cell_type": "code",
      "source": [
        "# Test that the keys match for training dataframes\n",
        "print (input_train.head())\n",
        "print (label_train.head())"
      ],
      "metadata": {
        "id": "x35qRMsDZyH1",
        "colab": {
          "base_uri": "https://localhost:8080/"
        },
        "outputId": "401609c6-b479-41fc-8a36-09c74ed58368"
      },
      "execution_count": 12,
      "outputs": [
        {
          "output_type": "stream",
          "name": "stdout",
          "text": [
            "      id    huml  humw   ulnal  ulnaw   feml  femw    tibl  tibw   tarl  tarw\n",
            "12    12  172.00  8.44  142.00   8.43  52.18  6.68  180.00  9.62  82.58  5.50\n",
            "134  134   46.40  3.39   38.60   3.32  29.00  2.36   49.08  2.49  26.55  2.19\n",
            "269  269   27.07  2.66   31.95   1.87  18.80  1.51   26.38  1.33  12.52  1.16\n",
            "11    11  186.00  9.83  152.00   8.76  56.02  7.02  185.00  8.07  90.80  4.59\n",
            "275  275   39.98  3.34   47.50   2.64  28.57  2.53   42.96  2.20  27.66  1.67\n",
            "    type\n",
            "12    SW\n",
            "134    W\n",
            "269    P\n",
            "11    SW\n",
            "275    P\n"
          ]
        }
      ]
    },
    {
      "cell_type": "code",
      "source": [
        "# Test that shapes are correct\n",
        "# Trains and tests should match number of rows\n",
        "print(input_train.shape)\n",
        "print(input_test.shape)\n",
        "print(label_train.shape)\n",
        "print(label_test.shape)"
      ],
      "metadata": {
        "colab": {
          "base_uri": "https://localhost:8080/"
        },
        "id": "txd62SNVIfUH",
        "outputId": "db7e83b2-1bf1-4619-b9fd-be83532bacce"
      },
      "execution_count": 13,
      "outputs": [
        {
          "output_type": "stream",
          "name": "stdout",
          "text": [
            "(309, 11)\n",
            "(104, 11)\n",
            "(309, 1)\n",
            "(104, 1)\n"
          ]
        }
      ]
    },
    {
      "cell_type": "code",
      "source": [
        "# make your model! \n",
        "gnb = GaussianNB()\n",
        "gnb.fit(input_train, label_train)\n",
        "bird_bone_pred = gnb.predict(input_test)"
      ],
      "metadata": {
        "colab": {
          "base_uri": "https://localhost:8080/"
        },
        "id": "LQ2YbLZ0IqHQ",
        "outputId": "719ce0ad-04a5-4159-a60a-a9db04b85929"
      },
      "execution_count": 14,
      "outputs": [
        {
          "output_type": "stream",
          "name": "stderr",
          "text": [
            "/usr/local/lib/python3.7/dist-packages/sklearn/utils/validation.py:993: DataConversionWarning: A column-vector y was passed when a 1d array was expected. Please change the shape of y to (n_samples, ), for example using ravel().\n",
            "  y = column_or_1d(y, warn=True)\n"
          ]
        }
      ]
    },
    {
      "cell_type": "code",
      "source": [
        "# How well did our model do?\n",
        "# find the accuracy score.\n",
        "print(\"Gaussian Naive Bayes accuracy:\", round((accuracy_score(label_test, bird_bone_pred)*100),2))"
      ],
      "metadata": {
        "colab": {
          "base_uri": "https://localhost:8080/"
        },
        "id": "fe-scMuZXH-r",
        "outputId": "5a2c556c-045b-4bf4-cef8-9719e23d3b29"
      },
      "execution_count": 15,
      "outputs": [
        {
          "output_type": "stream",
          "name": "stdout",
          "text": [
            "Gaussian Naive Bayes accuracy: 75.96\n"
          ]
        }
      ]
    },
    {
      "cell_type": "code",
      "source": [
        "# Let's take a look at the confusion matrix.\n",
        "# Import confusion matrix\n",
        "from sklearn.metrics import classification_report\n",
        "from sklearn.metrics import confusion_matrix"
      ],
      "metadata": {
        "id": "DspPwTNYXdXm"
      },
      "execution_count": 16,
      "outputs": []
    },
    {
      "cell_type": "code",
      "source": [
        "# Generate the confusion matrix and classification report\n",
        "print (\"THIS IS THE CONFUSION MATRIX:\")\n",
        "print(confusion_matrix(label_test, bird_bone_pred))\n",
        "print (\"THIS IS THE CLASSIFICATION REPORT:\")\n",
        "print(classification_report(label_test, bird_bone_pred))"
      ],
      "metadata": {
        "colab": {
          "base_uri": "https://localhost:8080/"
        },
        "id": "yHr9IGPYX8uK",
        "outputId": "bf0cec6f-9df3-4321-f77d-b4659dc2dcba"
      },
      "execution_count": 17,
      "outputs": [
        {
          "output_type": "stream",
          "name": "stdout",
          "text": [
            "THIS IS THE CONFUSION MATRIX:\n",
            "[[ 5  1  4  0  0  0]\n",
            " [ 3  9  0  0  0  0]\n",
            " [ 5  0 26  0  0  0]\n",
            " [ 0  0  0 23  0  6]\n",
            " [ 0  2  0  1  3  0]\n",
            " [ 0  0  2  0  1 13]]\n",
            "THIS IS THE CLASSIFICATION REPORT:\n",
            "              precision    recall  f1-score   support\n",
            "\n",
            "           P       0.38      0.50      0.43        10\n",
            "           R       0.75      0.75      0.75        12\n",
            "          SO       0.81      0.84      0.83        31\n",
            "          SW       0.96      0.79      0.87        29\n",
            "           T       0.75      0.50      0.60         6\n",
            "           W       0.68      0.81      0.74        16\n",
            "\n",
            "    accuracy                           0.76       104\n",
            "   macro avg       0.72      0.70      0.70       104\n",
            "weighted avg       0.78      0.76      0.77       104\n",
            "\n"
          ]
        }
      ]
    },
    {
      "cell_type": "code",
      "source": [
        ""
      ],
      "metadata": {
        "id": "hyfkSUcjYFHI"
      },
      "execution_count": null,
      "outputs": []
    }
  ]
}